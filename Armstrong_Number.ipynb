{
  "nbformat": 4,
  "nbformat_minor": 0,
  "metadata": {
    "colab": {
      "name": "Armstrong Number.ipynb",
      "provenance": [],
      "authorship_tag": "ABX9TyMd1JlscBobbCvJWhMyq1Sy",
      "include_colab_link": true
    },
    "kernelspec": {
      "name": "python3",
      "display_name": "Python 3"
    },
    "language_info": {
      "name": "python"
    }
  },
  "cells": [
    {
      "cell_type": "markdown",
      "metadata": {
        "id": "view-in-github",
        "colab_type": "text"
      },
      "source": [
        "<a href=\"https://colab.research.google.com/github/C8143-Shan/Armstrongpython/blob/main/Armstrong_Number.ipynb\" target=\"_parent\"><img src=\"https://colab.research.google.com/assets/colab-badge.svg\" alt=\"Open In Colab\"/></a>"
      ]
    },
    {
      "cell_type": "code",
      "metadata": {
        "id": "vURCsP2Qd4TB"
      },
      "source": [
        "while True : \n",
        "  number = input(\"Enter a postive number :\")\n",
        "  digits = len(number)\n",
        "  summ = 0\n",
        "  \n",
        "  if not number.isdigit() :\n",
        "    print(number, \"is invalid entry. enter numeric value!.\")\n",
        "  elif int(number) >= 0 :\n",
        "    for i in range(digits) :\n",
        "      summ = summ + int(number[i]) ** digits\n",
        "      if summ == int(number) :\n",
        "        print(number, \"is an Armstrong number.\")\n",
        "        break\n",
        "      else :\n",
        "        print(number, \"is not an Amstrong number.\")\n",
        "        break"
      ],
      "execution_count": null,
      "outputs": []
    }
  ]
}